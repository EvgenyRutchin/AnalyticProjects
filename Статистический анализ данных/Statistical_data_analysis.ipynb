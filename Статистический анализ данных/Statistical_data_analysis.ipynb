{
 "cells": [
  {
   "cell_type": "markdown",
   "metadata": {},
   "source": [
    "## Определение перспективного тарифа для телеком компании\n",
    "\n"
   ]
  },
  {
   "cell_type": "markdown",
   "metadata": {},
   "source": [
    "### Описание тарифов:\n",
    "\n",
    "#### Тариф «Смарт»\n",
    "- Ежемесячная плата: 550 рублей\n",
    "- Включено 500 минут разговора, 50 сообщений и 15 Гб интернет-трафика\n",
    "- Стоимость услуг сверх тарифного пакета:\n",
    "  - минута разговора: 3 рубля\n",
    "  - сообщение: 3 рубля\n",
    "  - 1 Гб интернет-трафика: 200 рублей\n",
    "\n",
    "#### Тариф «Ультра»\n",
    "- Ежемесячная плата: 1950 рублей\n",
    "- Включено 3000 минут разговора, 1000 сообщений и 30 Гб интернет-трафика\n",
    "- Стоимость услуг сверх тарифного пакета:\n",
    "  - минута разговора: 1 рубль\n",
    "  - сообщение: 1 рубль\n",
    "  - 1 Гб интернет-трафика: 150 рублей"
   ]
  },
  {
   "cell_type": "markdown",
   "metadata": {},
   "source": [
    "### Шаг 1.  Изучим общую информацию и обработаем данные"
   ]
  },
  {
   "cell_type": "code",
   "execution_count": 1,
   "metadata": {},
   "outputs": [],
   "source": [
    "import pandas as pd\n",
    "import numpy as np\n",
    "import matplotlib.pyplot as plt\n",
    "from scipy import stats as st\n"
   ]
  },
  {
   "cell_type": "code",
   "execution_count": 2,
   "metadata": {},
   "outputs": [],
   "source": [
    "calls = pd.read_csv('/datasets/calls.csv')\n",
    "internet = pd.read_csv('/datasets/internet.csv') \n",
    "messages = pd.read_csv('/datasets/messages.csv') \n",
    "tariffs = pd.read_csv('/datasets/tariffs.csv') \n",
    "users = pd.read_csv('/datasets/users.csv') "
   ]
  },
  {
   "cell_type": "markdown",
   "metadata": {},
   "source": [
    "#### Рассмотрим таблицу звонков:"
   ]
  },
  {
   "cell_type": "code",
   "execution_count": 3,
   "metadata": {},
   "outputs": [
    {
     "name": "stdout",
     "output_type": "stream",
     "text": [
      "       id   call_date  duration  user_id\n",
      "0  1000_0  2018-07-25      0.00     1000\n",
      "1  1000_1  2018-08-17      0.00     1000\n",
      "2  1000_2  2018-06-11      2.85     1000\n",
      "3  1000_3  2018-09-21     13.80     1000\n",
      "4  1000_4  2018-12-15      5.18     1000\n",
      "5  1000_5  2018-11-02      0.00     1000\n",
      "6  1000_6  2018-10-18      0.00     1000\n",
      "7  1000_7  2018-08-22     18.31     1000\n",
      "8  1000_8  2018-09-15     18.44     1000\n",
      "9  1000_9  2018-08-15      0.00     1000\n"
     ]
    }
   ],
   "source": [
    "print(calls.head(10))"
   ]
  },
  {
   "cell_type": "code",
   "execution_count": 4,
   "metadata": {},
   "outputs": [
    {
     "data": {
      "text/plain": [
       "202607"
      ]
     },
     "execution_count": 4,
     "metadata": {},
     "output_type": "execute_result"
    }
   ],
   "source": [
    "len(calls)"
   ]
  },
  {
   "cell_type": "markdown",
   "metadata": {},
   "source": [
    "Проверим на наличие пропусков:"
   ]
  },
  {
   "cell_type": "code",
   "execution_count": 5,
   "metadata": {},
   "outputs": [
    {
     "name": "stdout",
     "output_type": "stream",
     "text": [
      "id           0\n",
      "call_date    0\n",
      "duration     0\n",
      "user_id      0\n",
      "dtype: int64\n"
     ]
    }
   ],
   "source": [
    "print(calls.isnull().sum())"
   ]
  },
  {
   "cell_type": "markdown",
   "metadata": {},
   "source": [
    "Исходя из условия, что «Мегалайн» всегда округляет вверх значения минут и мегабайтов. Если пользователь проговорил всего 1 секунду, в тарифе засчитывается целая минута. Округлим все значения столбца 'duration'. Применим функцию, которая округляет значение до минимальнго целого, большего нежели исходное значние."
   ]
  },
  {
   "cell_type": "code",
   "execution_count": 6,
   "metadata": {},
   "outputs": [
    {
     "data": {
      "text/html": [
       "<div>\n",
       "<style scoped>\n",
       "    .dataframe tbody tr th:only-of-type {\n",
       "        vertical-align: middle;\n",
       "    }\n",
       "\n",
       "    .dataframe tbody tr th {\n",
       "        vertical-align: top;\n",
       "    }\n",
       "\n",
       "    .dataframe thead th {\n",
       "        text-align: right;\n",
       "    }\n",
       "</style>\n",
       "<table border=\"1\" class=\"dataframe\">\n",
       "  <thead>\n",
       "    <tr style=\"text-align: right;\">\n",
       "      <th></th>\n",
       "      <th>id</th>\n",
       "      <th>call_date</th>\n",
       "      <th>duration</th>\n",
       "      <th>user_id</th>\n",
       "    </tr>\n",
       "  </thead>\n",
       "  <tbody>\n",
       "    <tr>\n",
       "      <td>0</td>\n",
       "      <td>1000_0</td>\n",
       "      <td>2018-07-25</td>\n",
       "      <td>0.0</td>\n",
       "      <td>1000</td>\n",
       "    </tr>\n",
       "    <tr>\n",
       "      <td>1</td>\n",
       "      <td>1000_1</td>\n",
       "      <td>2018-08-17</td>\n",
       "      <td>0.0</td>\n",
       "      <td>1000</td>\n",
       "    </tr>\n",
       "    <tr>\n",
       "      <td>2</td>\n",
       "      <td>1000_2</td>\n",
       "      <td>2018-06-11</td>\n",
       "      <td>3.0</td>\n",
       "      <td>1000</td>\n",
       "    </tr>\n",
       "    <tr>\n",
       "      <td>3</td>\n",
       "      <td>1000_3</td>\n",
       "      <td>2018-09-21</td>\n",
       "      <td>14.0</td>\n",
       "      <td>1000</td>\n",
       "    </tr>\n",
       "    <tr>\n",
       "      <td>4</td>\n",
       "      <td>1000_4</td>\n",
       "      <td>2018-12-15</td>\n",
       "      <td>6.0</td>\n",
       "      <td>1000</td>\n",
       "    </tr>\n",
       "  </tbody>\n",
       "</table>\n",
       "</div>"
      ],
      "text/plain": [
       "       id   call_date  duration  user_id\n",
       "0  1000_0  2018-07-25       0.0     1000\n",
       "1  1000_1  2018-08-17       0.0     1000\n",
       "2  1000_2  2018-06-11       3.0     1000\n",
       "3  1000_3  2018-09-21      14.0     1000\n",
       "4  1000_4  2018-12-15       6.0     1000"
      ]
     },
     "execution_count": 6,
     "metadata": {},
     "output_type": "execute_result"
    }
   ],
   "source": [
    "calls['duration'] = calls['duration'].apply(np.ceil)\n",
    "calls.head(5)"
   ]
  },
  {
   "cell_type": "markdown",
   "metadata": {},
   "source": [
    "Рассмотрим диаграмму значений длительности звонков:"
   ]
  },
  {
   "cell_type": "code",
   "execution_count": 7,
   "metadata": {},
   "outputs": [
    {
     "data": {
      "text/plain": [
       "<matplotlib.axes._subplots.AxesSubplot at 0x7f068b571bd0>"
      ]
     },
     "execution_count": 7,
     "metadata": {},
     "output_type": "execute_result"
    },
    {
     "data": {
      "image/png": "[encoded data removed]",
      "text/plain": [
       "<Figure size 432x288 with 1 Axes>"
      ]
     },
     "metadata": {
      "needs_background": "light"
     },
     "output_type": "display_data"
    }
   ],
   "source": [
    "plt.style.use('seaborn-colorblind')\n",
    "calls['duration'].plot(kind='hist', ec='blue', bins=40, grid=True)"
   ]
  },
  {
   "cell_type": "markdown",
   "metadata": {},
   "source": [
    "На диаграмме видим большое количество нулевых значений, найдем их количество:"
   ]
  },
  {
   "cell_type": "code",
   "execution_count": 8,
   "metadata": {},
   "outputs": [
    {
     "data": {
      "text/plain": [
       "39613"
      ]
     },
     "execution_count": 8,
     "metadata": {},
     "output_type": "execute_result"
    }
   ],
   "source": [
    "len(calls.query('duration == 0'))"
   ]
  },
  {
   "cell_type": "markdown",
   "metadata": {},
   "source": [
    "Нулевые значения возможно могут означать звонки, которые были произведены, но по каким-то причинам не состоялись, будь-то были сброшены, занято, недоступность абонента или подобные случаи, когда вызов был произведен, но по факту длительность разговора равно 0. Удалим такие строки, т.к. они никак не влияют на расход минут и лишь засоряют данные."
   ]
  },
  {
   "cell_type": "code",
   "execution_count": 9,
   "metadata": {},
   "outputs": [],
   "source": [
    "calls = calls.query('duration > 0')"
   ]
  },
  {
   "cell_type": "code",
   "execution_count": 10,
   "metadata": {},
   "outputs": [
    {
     "data": {
      "text/plain": [
       "162994"
      ]
     },
     "execution_count": 10,
     "metadata": {},
     "output_type": "execute_result"
    }
   ],
   "source": [
    "len(calls)"
   ]
  },
  {
   "cell_type": "markdown",
   "metadata": {},
   "source": [
    "Проверим форматы данных:"
   ]
  },
  {
   "cell_type": "code",
   "execution_count": 11,
   "metadata": {},
   "outputs": [
    {
     "name": "stdout",
     "output_type": "stream",
     "text": [
      "<class 'pandas.core.frame.DataFrame'>\n",
      "Int64Index: 162994 entries, 2 to 202606\n",
      "Data columns (total 4 columns):\n",
      "id           162994 non-null object\n",
      "call_date    162994 non-null object\n",
      "duration     162994 non-null float64\n",
      "user_id      162994 non-null int64\n",
      "dtypes: float64(1), int64(1), object(2)\n",
      "memory usage: 6.2+ MB\n"
     ]
    }
   ],
   "source": [
    "calls.info()"
   ]
  },
  {
   "cell_type": "markdown",
   "metadata": {},
   "source": [
    "Изменим формат данных на целочисленный для значений длительности звонков, т.к. они округленны и принимают только целые значения, т.к. для столбца 'call_date' изменим тип на формат даты"
   ]
  },
  {
   "cell_type": "code",
   "execution_count": 12,
   "metadata": {},
   "outputs": [],
   "source": [
    "calls['call_date'] = pd.to_datetime(calls['call_date'], format='%Y-%m-%d')\n",
    "calls['duration'] = calls['duration'].astype('int')"
   ]
  },
  {
   "cell_type": "code",
   "execution_count": 13,
   "metadata": {},
   "outputs": [
    {
     "name": "stdout",
     "output_type": "stream",
     "text": [
      "         id  call_date  duration  user_id\n",
      "2    1000_2 2018-06-11         3     1000\n",
      "3    1000_3 2018-09-21        14     1000\n",
      "4    1000_4 2018-12-15         6     1000\n",
      "7    1000_7 2018-08-22        19     1000\n",
      "8    1000_8 2018-09-15        19     1000\n",
      "10  1000_10 2018-08-22         6     1000\n",
      "11  1000_11 2018-05-28        19     1000\n",
      "12  1000_12 2018-07-05         3     1000\n",
      "13  1000_13 2018-09-29         8     1000\n",
      "14  1000_14 2018-12-11        10     1000\n"
     ]
    }
   ],
   "source": [
    "print(calls.head(10))"
   ]
  },
  {
   "cell_type": "markdown",
   "metadata": {},
   "source": [
    "#### Рассмотрим таблицу, где указана информация об интернет-сессиях:"
   ]
  },
  {
   "cell_type": "code",
   "execution_count": 14,
   "metadata": {},
   "outputs": [
    {
     "name": "stdout",
     "output_type": "stream",
     "text": [
      "   Unnamed: 0      id  mb_used session_date  user_id\n",
      "0           0  1000_0   112.95   2018-11-25     1000\n",
      "1           1  1000_1  1052.81   2018-09-07     1000\n",
      "2           2  1000_2  1197.26   2018-06-25     1000\n",
      "3           3  1000_3   550.27   2018-08-22     1000\n",
      "4           4  1000_4   302.56   2018-09-24     1000\n",
      "5           5  1000_5   399.97   2018-10-02     1000\n",
      "6           6  1000_6   540.08   2018-09-07     1000\n",
      "7           7  1000_7   415.70   2018-07-11     1000\n",
      "8           8  1000_8   505.40   2018-10-08     1000\n",
      "9           9  1000_9   345.54   2018-09-03     1000\n"
     ]
    }
   ],
   "source": [
    "print(internet.head(10))"
   ]
  },
  {
   "cell_type": "code",
   "execution_count": 15,
   "metadata": {},
   "outputs": [
    {
     "data": {
      "text/plain": [
       "149396"
      ]
     },
     "execution_count": 15,
     "metadata": {},
     "output_type": "execute_result"
    }
   ],
   "source": [
    "len(internet)"
   ]
  },
  {
   "cell_type": "markdown",
   "metadata": {},
   "source": [
    "Проверим на наличие пропусков:"
   ]
  },
  {
   "cell_type": "code",
   "execution_count": 16,
   "metadata": {},
   "outputs": [
    {
     "name": "stdout",
     "output_type": "stream",
     "text": [
      "Unnamed: 0      0\n",
      "id              0\n",
      "mb_used         0\n",
      "session_date    0\n",
      "user_id         0\n",
      "dtype: int64\n"
     ]
    }
   ],
   "source": [
    "print(internet.isnull().sum())"
   ]
  },
  {
   "cell_type": "markdown",
   "metadata": {},
   "source": [
    "Исходя из услоывия, что «Мегалайн» всегда округляет вверх значения минут и мегабайтов. Если пользователь проговорил всего 1 секунду, в тарифе засчитывается целая минута. Округлим все значения столбца 'duration'."
   ]
  },
  {
   "cell_type": "code",
   "execution_count": 17,
   "metadata": {},
   "outputs": [
    {
     "data": {
      "text/html": [
       "<div>\n",
       "<style scoped>\n",
       "    .dataframe tbody tr th:only-of-type {\n",
       "        vertical-align: middle;\n",
       "    }\n",
       "\n",
       "    .dataframe tbody tr th {\n",
       "        vertical-align: top;\n",
       "    }\n",
       "\n",
       "    .dataframe thead th {\n",
       "        text-align: right;\n",
       "    }\n",
       "</style>\n",
       "<table border=\"1\" class=\"dataframe\">\n",
       "  <thead>\n",
       "    <tr style=\"text-align: right;\">\n",
       "      <th></th>\n",
       "      <th>Unnamed: 0</th>\n",
       "      <th>id</th>\n",
       "      <th>mb_used</th>\n",
       "      <th>session_date</th>\n",
       "      <th>user_id</th>\n",
       "    </tr>\n",
       "  </thead>\n",
       "  <tbody>\n",
       "    <tr>\n",
       "      <td>0</td>\n",
       "      <td>0</td>\n",
       "      <td>1000_0</td>\n",
       "      <td>113.0</td>\n",
       "      <td>2018-11-25</td>\n",
       "      <td>1000</td>\n",
       "    </tr>\n",
       "    <tr>\n",
       "      <td>1</td>\n",
       "      <td>1</td>\n",
       "      <td>1000_1</td>\n",
       "      <td>1053.0</td>\n",
       "      <td>2018-09-07</td>\n",
       "      <td>1000</td>\n",
       "    </tr>\n",
       "    <tr>\n",
       "      <td>2</td>\n",
       "      <td>2</td>\n",
       "      <td>1000_2</td>\n",
       "      <td>1198.0</td>\n",
       "      <td>2018-06-25</td>\n",
       "      <td>1000</td>\n",
       "    </tr>\n",
       "    <tr>\n",
       "      <td>3</td>\n",
       "      <td>3</td>\n",
       "      <td>1000_3</td>\n",
       "      <td>551.0</td>\n",
       "      <td>2018-08-22</td>\n",
       "      <td>1000</td>\n",
       "    </tr>\n",
       "    <tr>\n",
       "      <td>4</td>\n",
       "      <td>4</td>\n",
       "      <td>1000_4</td>\n",
       "      <td>303.0</td>\n",
       "      <td>2018-09-24</td>\n",
       "      <td>1000</td>\n",
       "    </tr>\n",
       "  </tbody>\n",
       "</table>\n",
       "</div>"
      ],
      "text/plain": [
       "   Unnamed: 0      id  mb_used session_date  user_id\n",
       "0           0  1000_0    113.0   2018-11-25     1000\n",
       "1           1  1000_1   1053.0   2018-09-07     1000\n",
       "2           2  1000_2   1198.0   2018-06-25     1000\n",
       "3           3  1000_3    551.0   2018-08-22     1000\n",
       "4           4  1000_4    303.0   2018-09-24     1000"
      ]
     },
     "execution_count": 17,
     "metadata": {},
     "output_type": "execute_result"
    }
   ],
   "source": [
    "internet['mb_used'] = internet['mb_used'].apply(np.ceil)\n",
    "internet.head(5)"
   ]
  },
  {
   "cell_type": "markdown",
   "metadata": {},
   "source": [
    "Рассмотрим диаграмму значений объёма потраченного за сессию интернет-трафика (в мегабайтах):"
   ]
  },
  {
   "cell_type": "code",
   "execution_count": 18,
   "metadata": {
    "scrolled": true
   },
   "outputs": [
    {
     "data": {
      "text/plain": [
       "<matplotlib.axes._subplots.AxesSubplot at 0x7f068b3a7710>"
      ]
     },
     "execution_count": 18,
     "metadata": {},
     "output_type": "execute_result"
    },
    {
     "data": {
      "image/png": "[encoded data removed]",
      "text/plain": [
       "<Figure size 432x288 with 1 Axes>"
      ]
     },
     "metadata": {
      "needs_background": "light"
     },
     "output_type": "display_data"
    }
   ],
   "source": [
    "plt.style.use('seaborn-colorblind')\n",
    "internet['mb_used'].plot(kind='hist', ec='blue', bins=40, grid=True)"
   ]
  },
  {
   "cell_type": "markdown",
   "metadata": {},
   "source": [
    "На диаграмме видим большое количество нулевых значений, найдем их количество:"
   ]
  },
  {
   "cell_type": "code",
   "execution_count": 19,
   "metadata": {},
   "outputs": [
    {
     "data": {
      "text/plain": [
       "19598"
      ]
     },
     "execution_count": 19,
     "metadata": {},
     "output_type": "execute_result"
    }
   ],
   "source": [
    "len(internet.query('mb_used == 0'))"
   ]
  },
  {
   "cell_type": "markdown",
   "metadata": {},
   "source": [
    "Нулевые значения могут обозначать факт подключения к интернету без дальнейшего его использования. Удалим такие строки, т.к. они никак не влияют на расход трафика и лишь засоряют данные."
   ]
  },
  {
   "cell_type": "code",
   "execution_count": 20,
   "metadata": {},
   "outputs": [],
   "source": [
    "internet = internet.query('mb_used > 0')"
   ]
  },
  {
   "cell_type": "markdown",
   "metadata": {},
   "source": [
    "Проверим форматы данных:"
   ]
  },
  {
   "cell_type": "code",
   "execution_count": 21,
   "metadata": {},
   "outputs": [
    {
     "name": "stdout",
     "output_type": "stream",
     "text": [
      "<class 'pandas.core.frame.DataFrame'>\n",
      "Int64Index: 129798 entries, 0 to 149395\n",
      "Data columns (total 5 columns):\n",
      "Unnamed: 0      129798 non-null int64\n",
      "id              129798 non-null object\n",
      "mb_used         129798 non-null float64\n",
      "session_date    129798 non-null object\n",
      "user_id         129798 non-null int64\n",
      "dtypes: float64(1), int64(2), object(2)\n",
      "memory usage: 5.9+ MB\n"
     ]
    }
   ],
   "source": [
    "internet.info()"
   ]
  },
  {
   "cell_type": "markdown",
   "metadata": {},
   "source": [
    "Изменим формат данных на целочисленный для значений трафика, т.к. они округленны и принимают только целые значения,  для столбца 'session_date' изменим тип на формат даты"
   ]
  },
  {
   "cell_type": "code",
   "execution_count": 22,
   "metadata": {},
   "outputs": [],
   "source": [
    "internet['session_date'] = pd.to_datetime(internet['session_date'], format='%Y-%m-%d')\n",
    "internet['mb_used'] = internet['mb_used'].astype('int')"
   ]
  },
  {
   "cell_type": "code",
   "execution_count": 23,
   "metadata": {},
   "outputs": [
    {
     "name": "stdout",
     "output_type": "stream",
     "text": [
      "   Unnamed: 0      id  mb_used session_date  user_id\n",
      "0           0  1000_0      113   2018-11-25     1000\n",
      "1           1  1000_1     1053   2018-09-07     1000\n",
      "2           2  1000_2     1198   2018-06-25     1000\n",
      "3           3  1000_3      551   2018-08-22     1000\n",
      "4           4  1000_4      303   2018-09-24     1000\n",
      "5           5  1000_5      400   2018-10-02     1000\n",
      "6           6  1000_6      541   2018-09-07     1000\n",
      "7           7  1000_7      416   2018-07-11     1000\n",
      "8           8  1000_8      506   2018-10-08     1000\n",
      "9           9  1000_9      346   2018-09-03     1000\n"
     ]
    }
   ],
   "source": [
    "print(internet.head(10))"
   ]
  },
  {
   "cell_type": "markdown",
   "metadata": {},
   "source": [
    "#### Рассмотрим таблицу, где указана информация о сообщениях:"
   ]
  },
  {
   "cell_type": "code",
   "execution_count": 24,
   "metadata": {},
   "outputs": [
    {
     "name": "stdout",
     "output_type": "stream",
     "text": [
      "       id message_date  user_id\n",
      "0  1000_0   2018-06-27     1000\n",
      "1  1000_1   2018-10-08     1000\n",
      "2  1000_2   2018-08-04     1000\n",
      "3  1000_3   2018-06-16     1000\n",
      "4  1000_4   2018-12-05     1000\n",
      "5  1000_5   2018-06-20     1000\n",
      "6  1000_6   2018-11-19     1000\n",
      "7  1000_7   2018-10-29     1000\n",
      "8  1000_8   2018-06-25     1000\n",
      "9  1000_9   2018-12-18     1000\n"
     ]
    }
   ],
   "source": [
    "print(messages.head(10))"
   ]
  },
  {
   "cell_type": "code",
   "execution_count": 25,
   "metadata": {},
   "outputs": [
    {
     "name": "stdout",
     "output_type": "stream",
     "text": [
      "id              0\n",
      "message_date    0\n",
      "user_id         0\n",
      "dtype: int64\n"
     ]
    }
   ],
   "source": [
    "print(messages.isnull().sum())"
   ]
  },
  {
   "cell_type": "markdown",
   "metadata": {},
   "source": [
    "Проверим типы данных:"
   ]
  },
  {
   "cell_type": "code",
   "execution_count": 26,
   "metadata": {},
   "outputs": [
    {
     "name": "stdout",
     "output_type": "stream",
     "text": [
      "<class 'pandas.core.frame.DataFrame'>\n",
      "RangeIndex: 123036 entries, 0 to 123035\n",
      "Data columns (total 3 columns):\n",
      "id              123036 non-null object\n",
      "message_date    123036 non-null object\n",
      "user_id         123036 non-null int64\n",
      "dtypes: int64(1), object(2)\n",
      "memory usage: 2.8+ MB\n"
     ]
    }
   ],
   "source": [
    "messages.info()"
   ]
  },
  {
   "cell_type": "markdown",
   "metadata": {},
   "source": [
    "Изменим тип данных 'message_date' на формат даты:"
   ]
  },
  {
   "cell_type": "code",
   "execution_count": 27,
   "metadata": {},
   "outputs": [],
   "source": [
    "messages['message_date'] = pd.to_datetime(messages['message_date'], format='%Y-%m-%d')"
   ]
  },
  {
   "cell_type": "markdown",
   "metadata": {},
   "source": [
    "#### Рассмотрим таблицу, где указана информация о тарифах:"
   ]
  },
  {
   "cell_type": "code",
   "execution_count": 28,
   "metadata": {},
   "outputs": [
    {
     "name": "stdout",
     "output_type": "stream",
     "text": [
      "   messages_included  mb_per_month_included  minutes_included  \\\n",
      "0                 50                  15360               500   \n",
      "1               1000                  30720              3000   \n",
      "\n",
      "   rub_monthly_fee  rub_per_gb  rub_per_message  rub_per_minute tariff_name  \n",
      "0              550         200                3               3       smart  \n",
      "1             1950         150                1               1       ultra  \n"
     ]
    }
   ],
   "source": [
    "print(tariffs)"
   ]
  },
  {
   "cell_type": "markdown",
   "metadata": {},
   "source": [
    "#### Рассмотрим таблицу, где указана информация о пользователях:"
   ]
  },
  {
   "cell_type": "code",
   "execution_count": 29,
   "metadata": {},
   "outputs": [
    {
     "name": "stdout",
     "output_type": "stream",
     "text": [
      "   user_id  age churn_date              city first_name  last_name  \\\n",
      "0     1000   52        NaN         Краснодар     Рафаил  Верещагин   \n",
      "1     1001   41        NaN            Москва       Иван       Ежов   \n",
      "2     1002   59        NaN       Стерлитамак    Евгений  Абрамович   \n",
      "3     1003   23        NaN            Москва      Белла   Белякова   \n",
      "4     1004   68        NaN       Новокузнецк    Татьяна   Авдеенко   \n",
      "5     1005   67        NaN  Набережные Челны   Афанасий     Горлов   \n",
      "6     1006   21        NaN         Ульяновск     Леонид   Ермолаев   \n",
      "7     1007   65        NaN            Москва        Юна   Березина   \n",
      "8     1008   63        NaN         Челябинск     Рустэм  Пономарёв   \n",
      "9     1009   24        NaN             Пермь   Василиса    Блинова   \n",
      "\n",
      "     reg_date tariff  \n",
      "0  2018-05-25  ultra  \n",
      "1  2018-11-01  smart  \n",
      "2  2018-06-17  smart  \n",
      "3  2018-08-17  ultra  \n",
      "4  2018-05-14  ultra  \n",
      "5  2018-01-25  smart  \n",
      "6  2018-02-26  smart  \n",
      "7  2018-04-19  smart  \n",
      "8  2018-12-19  smart  \n",
      "9  2018-03-22  smart  \n"
     ]
    }
   ],
   "source": [
    "print(users.head(10))"
   ]
  },
  {
   "cell_type": "code",
   "execution_count": 30,
   "metadata": {},
   "outputs": [
    {
     "data": {
      "text/plain": [
       "500"
      ]
     },
     "execution_count": 30,
     "metadata": {},
     "output_type": "execute_result"
    }
   ],
   "source": [
    "len(users)"
   ]
  },
  {
   "cell_type": "markdown",
   "metadata": {},
   "source": [
    "Проверим некоторые значения:"
   ]
  },
  {
   "cell_type": "code",
   "execution_count": 31,
   "metadata": {},
   "outputs": [
    {
     "name": "stdout",
     "output_type": "stream",
     "text": [
      "75\n",
      "18\n"
     ]
    }
   ],
   "source": [
    "print(users['age'].max())\n",
    "print(users['age'].min())"
   ]
  },
  {
   "cell_type": "code",
   "execution_count": 32,
   "metadata": {},
   "outputs": [
    {
     "data": {
      "text/plain": [
       "array(['ultra', 'smart'], dtype=object)"
      ]
     },
     "execution_count": 32,
     "metadata": {},
     "output_type": "execute_result"
    }
   ],
   "source": [
    "users['tariff'].unique()"
   ]
  },
  {
   "cell_type": "markdown",
   "metadata": {},
   "source": [
    "Изменим тип данных 'reg_date' и 'churn_date'  на формат даты:"
   ]
  },
  {
   "cell_type": "code",
   "execution_count": 33,
   "metadata": {},
   "outputs": [],
   "source": [
    "users['churn_date'] = pd.to_datetime(users['churn_date'], format='%Y-%m-%d')\n",
    "users['reg_date'] = pd.to_datetime(users['reg_date'], format='%Y-%m-%d')"
   ]
  },
  {
   "cell_type": "code",
   "execution_count": 34,
   "metadata": {},
   "outputs": [
    {
     "name": "stdout",
     "output_type": "stream",
     "text": [
      "<class 'pandas.core.frame.DataFrame'>\n",
      "RangeIndex: 500 entries, 0 to 499\n",
      "Data columns (total 8 columns):\n",
      "user_id       500 non-null int64\n",
      "age           500 non-null int64\n",
      "churn_date    38 non-null datetime64[ns]\n",
      "city          500 non-null object\n",
      "first_name    500 non-null object\n",
      "last_name     500 non-null object\n",
      "reg_date      500 non-null datetime64[ns]\n",
      "tariff        500 non-null object\n",
      "dtypes: datetime64[ns](2), int64(2), object(4)\n",
      "memory usage: 31.4+ KB\n"
     ]
    }
   ],
   "source": [
    "users.info()"
   ]
  },
  {
   "cell_type": "markdown",
   "metadata": {},
   "source": [
    "### Посчитаем для каждого пользователя\n",
    "\n",
    "#### Количество сделанных звонков и израсходованных минут разговора по месяцам:"
   ]
  },
  {
   "cell_type": "code",
   "execution_count": 35,
   "metadata": {},
   "outputs": [],
   "source": [
    "calls['month'] = pd.DatetimeIndex(calls['call_date']).month"
   ]
  },
  {
   "cell_type": "code",
   "execution_count": 36,
   "metadata": {},
   "outputs": [
    {
     "name": "stdout",
     "output_type": "stream",
     "text": [
      "               count  sum\n",
      "user_id month            \n",
      "1000    5         17  159\n",
      "        6         28  172\n",
      "        7         41  340\n",
      "        8         42  408\n",
      "        9         46  466\n",
      "...              ...  ...\n",
      "1498    10        30  247\n",
      "1499    9          8   70\n",
      "        10        44  449\n",
      "        11        62  612\n",
      "        12        56  492\n",
      "\n",
      "[3168 rows x 2 columns]\n"
     ]
    }
   ],
   "source": [
    "calls_month = calls.groupby(['user_id', 'month'])['duration'].agg(['count', 'sum'])\n",
    "print(calls_month)"
   ]
  },
  {
   "cell_type": "markdown",
   "metadata": {},
   "source": [
    "#### Количество отправленных сообщений по месяцам:"
   ]
  },
  {
   "cell_type": "code",
   "execution_count": 37,
   "metadata": {},
   "outputs": [],
   "source": [
    "messages['month'] = pd.DatetimeIndex(messages['message_date']).month"
   ]
  },
  {
   "cell_type": "code",
   "execution_count": 38,
   "metadata": {},
   "outputs": [
    {
     "name": "stdout",
     "output_type": "stream",
     "text": [
      "user_id  month\n",
      "1000     5        22\n",
      "         6        60\n",
      "         7        75\n",
      "         8        81\n",
      "         9        57\n",
      "                  ..\n",
      "1498     10       42\n",
      "1499     9        11\n",
      "         10       48\n",
      "         11       59\n",
      "         12       66\n",
      "Name: id, Length: 2717, dtype: int64\n"
     ]
    }
   ],
   "source": [
    "messages_month = messages.groupby(['user_id', 'month'])['id'].count()\n",
    "print(messages_month)"
   ]
  },
  {
   "cell_type": "markdown",
   "metadata": {},
   "source": [
    "#### Объем израсходованного интернет-трафика по месяцам:"
   ]
  },
  {
   "cell_type": "code",
   "execution_count": 39,
   "metadata": {},
   "outputs": [],
   "source": [
    "internet['month'] = pd.DatetimeIndex(internet['session_date']).month"
   ]
  },
  {
   "cell_type": "code",
   "execution_count": 40,
   "metadata": {},
   "outputs": [
    {
     "name": "stdout",
     "output_type": "stream",
     "text": [
      "user_id  month\n",
      "1000     5         2256\n",
      "         6        23257\n",
      "         7        14016\n",
      "         8        14070\n",
      "         9        14581\n",
      "                  ...  \n",
      "1498     10       20604\n",
      "1499     9         1848\n",
      "         10       17809\n",
      "         11       17984\n",
      "         12       13077\n",
      "Name: mb_used, Length: 3201, dtype: int64\n"
     ]
    }
   ],
   "source": [
    "internet_month = internet.groupby(['user_id', 'month'])['mb_used'].sum()\n",
    "print(internet_month)"
   ]
  },
  {
   "cell_type": "markdown",
   "metadata": {},
   "source": [
    "#### Помесячную выручку с каждого пользователя :"
   ]
  },
  {
   "cell_type": "markdown",
   "metadata": {},
   "source": [
    "Соберем данные 3 таблиц в одну:"
   ]
  },
  {
   "cell_type": "code",
   "execution_count": 41,
   "metadata": {},
   "outputs": [
    {
     "data": {
      "text/html": [
       "<div>\n",
       "<style scoped>\n",
       "    .dataframe tbody tr th:only-of-type {\n",
       "        vertical-align: middle;\n",
       "    }\n",
       "\n",
       "    .dataframe tbody tr th {\n",
       "        vertical-align: top;\n",
       "    }\n",
       "\n",
       "    .dataframe thead th {\n",
       "        text-align: right;\n",
       "    }\n",
       "</style>\n",
       "<table border=\"1\" class=\"dataframe\">\n",
       "  <thead>\n",
       "    <tr style=\"text-align: right;\">\n",
       "      <th></th>\n",
       "      <th>user_id</th>\n",
       "      <th>month</th>\n",
       "      <th>count</th>\n",
       "      <th>sum</th>\n",
       "      <th>id</th>\n",
       "      <th>mb_used</th>\n",
       "    </tr>\n",
       "  </thead>\n",
       "  <tbody>\n",
       "    <tr>\n",
       "      <td>0</td>\n",
       "      <td>1000</td>\n",
       "      <td>5</td>\n",
       "      <td>17.0</td>\n",
       "      <td>159.0</td>\n",
       "      <td>22.0</td>\n",
       "      <td>2256.0</td>\n",
       "    </tr>\n",
       "    <tr>\n",
       "      <td>1</td>\n",
       "      <td>1000</td>\n",
       "      <td>6</td>\n",
       "      <td>28.0</td>\n",
       "      <td>172.0</td>\n",
       "      <td>60.0</td>\n",
       "      <td>23257.0</td>\n",
       "    </tr>\n",
       "    <tr>\n",
       "      <td>2</td>\n",
       "      <td>1000</td>\n",
       "      <td>7</td>\n",
       "      <td>41.0</td>\n",
       "      <td>340.0</td>\n",
       "      <td>75.0</td>\n",
       "      <td>14016.0</td>\n",
       "    </tr>\n",
       "    <tr>\n",
       "      <td>3</td>\n",
       "      <td>1000</td>\n",
       "      <td>8</td>\n",
       "      <td>42.0</td>\n",
       "      <td>408.0</td>\n",
       "      <td>81.0</td>\n",
       "      <td>14070.0</td>\n",
       "    </tr>\n",
       "    <tr>\n",
       "      <td>4</td>\n",
       "      <td>1000</td>\n",
       "      <td>9</td>\n",
       "      <td>46.0</td>\n",
       "      <td>466.0</td>\n",
       "      <td>57.0</td>\n",
       "      <td>14581.0</td>\n",
       "    </tr>\n",
       "  </tbody>\n",
       "</table>\n",
       "</div>"
      ],
      "text/plain": [
       "   user_id  month  count    sum    id  mb_used\n",
       "0     1000      5   17.0  159.0  22.0   2256.0\n",
       "1     1000      6   28.0  172.0  60.0  23257.0\n",
       "2     1000      7   41.0  340.0  75.0  14016.0\n",
       "3     1000      8   42.0  408.0  81.0  14070.0\n",
       "4     1000      9   46.0  466.0  57.0  14581.0"
      ]
     },
     "execution_count": 41,
     "metadata": {},
     "output_type": "execute_result"
    }
   ],
   "source": [
    "df_month = pd.concat([calls_month,messages_month,internet_month], axis=1)\n",
    "df_month = df_month.reset_index()\n",
    "df_month.head()"
   ]
  },
  {
   "cell_type": "markdown",
   "metadata": {},
   "source": [
    "Переименуем столбцы:"
   ]
  },
  {
   "cell_type": "code",
   "execution_count": 42,
   "metadata": {},
   "outputs": [],
   "source": [
    "df_month.columns = ['user_id', 'месяц', 'звонки', 'длительность', 'сообщения', 'трафик_мб']"
   ]
  },
  {
   "cell_type": "markdown",
   "metadata": {},
   "source": [
    "Проверим на наличие пропусков:"
   ]
  },
  {
   "cell_type": "code",
   "execution_count": 43,
   "metadata": {},
   "outputs": [
    {
     "name": "stdout",
     "output_type": "stream",
     "text": [
      "user_id           0\n",
      "месяц             0\n",
      "звонки           46\n",
      "длительность     46\n",
      "сообщения       497\n",
      "трафик_мб        13\n",
      "dtype: int64\n"
     ]
    }
   ],
   "source": [
    "print(df_month.isnull().sum())"
   ]
  },
  {
   "cell_type": "markdown",
   "metadata": {},
   "source": [
    "Пропуски могли образоваться из-за того, что  некоторые из пользователей за рассматриваемый период времени или ни разу не звонили, или ни разу не отправляли СМС, или ни разу не выходили в интернет. Значит нужно заменить их на 0 значения."
   ]
  },
  {
   "cell_type": "code",
   "execution_count": 44,
   "metadata": {},
   "outputs": [],
   "source": [
    "df_month['звонки'] = df_month['звонки'].fillna(0)\n",
    "df_month['длительность'] = df_month['длительность'].fillna(0)\n",
    "df_month['сообщения'] = df_month['сообщения'].fillna(0)\n",
    "df_month['трафик_мб'] = df_month['трафик_мб'].fillna(0)"
   ]
  },
  {
   "cell_type": "markdown",
   "metadata": {},
   "source": [
    "Добавим в таблицу данные о тарифах, городе и абонентской плате:"
   ]
  },
  {
   "cell_type": "code",
   "execution_count": 45,
   "metadata": {},
   "outputs": [],
   "source": [
    "tariff = dict(pd.Series(users['tariff'].values, index=users['user_id']))\n",
    "df_month['тариф'] = df_month['user_id'].map(tariff)\n",
    "\n",
    "city = dict(pd.Series(users['city'].values, index=users['user_id']))\n",
    "df_month['город'] = df_month['user_id'].map(city)"
   ]
  },
  {
   "cell_type": "code",
   "execution_count": 46,
   "metadata": {},
   "outputs": [],
   "source": [
    "def tarif(row):\n",
    "    if row['тариф'] == 'ultra':\n",
    "        return 1950\n",
    "    else:\n",
    "        return 550"
   ]
  },
  {
   "cell_type": "code",
   "execution_count": 47,
   "metadata": {},
   "outputs": [],
   "source": [
    "df_month['аб_плата, руб.'] = df_month.apply(tarif, axis = 1)"
   ]
  },
  {
   "cell_type": "code",
   "execution_count": 48,
   "metadata": {},
   "outputs": [
    {
     "name": "stdout",
     "output_type": "stream",
     "text": [
      "      user_id  месяц  звонки  длительность  сообщения  трафик_мб  тариф  \\\n",
      "0        1000      5    17.0         159.0       22.0     2256.0  ultra   \n",
      "1        1000      6    28.0         172.0       60.0    23257.0  ultra   \n",
      "2        1000      7    41.0         340.0       75.0    14016.0  ultra   \n",
      "3        1000      8    42.0         408.0       81.0    14070.0  ultra   \n",
      "4        1000      9    46.0         466.0       57.0    14581.0  ultra   \n",
      "...       ...    ...     ...           ...        ...        ...    ...   \n",
      "3209     1498     10    30.0         247.0       42.0    20604.0  smart   \n",
      "3210     1499      9     8.0          70.0       11.0     1848.0  smart   \n",
      "3211     1499     10    44.0         449.0       48.0    17809.0  smart   \n",
      "3212     1499     11    62.0         612.0       59.0    17984.0  smart   \n",
      "3213     1499     12    56.0         492.0       66.0    13077.0  smart   \n",
      "\n",
      "            город  аб_плата, руб.  \n",
      "0       Краснодар            1950  \n",
      "1       Краснодар            1950  \n",
      "2       Краснодар            1950  \n",
      "3       Краснодар            1950  \n",
      "4       Краснодар            1950  \n",
      "...           ...             ...  \n",
      "3209  Владикавказ             550  \n",
      "3210        Пермь             550  \n",
      "3211        Пермь             550  \n",
      "3212        Пермь             550  \n",
      "3213        Пермь             550  \n",
      "\n",
      "[3214 rows x 9 columns]\n"
     ]
    }
   ],
   "source": [
    "print(df_month)"
   ]
  },
  {
   "cell_type": "markdown",
   "metadata": {},
   "source": [
    "Функция для вычисления данных о переплатах сверх абонентской платы:"
   ]
  },
  {
   "cell_type": "markdown",
   "metadata": {},
   "source": [
    "Для звонков:"
   ]
  },
  {
   "cell_type": "code",
   "execution_count": 49,
   "metadata": {},
   "outputs": [],
   "source": [
    "def calls_over_plan(row):\n",
    "    if row['тариф'] == 'smart':\n",
    "        if  (row['длительность'] - 500) <= 0:\n",
    "            return 0\n",
    "        else: \n",
    "            (row['длительность'] - 500) > 0\n",
    "            return (row['длительность'] - 500)*3\n",
    "        \n",
    "    else:\n",
    "        if  (row['длительность'] - 3000) <= 0:\n",
    "            return 0\n",
    "        else: \n",
    "            (row['длительность'] - 3000) > 0\n",
    "            return (row['длительность'] - 3000)\n",
    "        "
   ]
  },
  {
   "cell_type": "code",
   "execution_count": 50,
   "metadata": {},
   "outputs": [],
   "source": [
    "df_month['минуты_сверх'] = df_month.apply(calls_over_plan, axis=1)"
   ]
  },
  {
   "cell_type": "markdown",
   "metadata": {},
   "source": [
    "Для сообщений:"
   ]
  },
  {
   "cell_type": "code",
   "execution_count": 51,
   "metadata": {},
   "outputs": [],
   "source": [
    "def messagers_over_plan(row):\n",
    "    if row['тариф'] == 'smart':\n",
    "        if  (row['сообщения'] - 50) <= 0:\n",
    "            return 0\n",
    "        else: \n",
    "            (row['сообщения'] - 50) > 0\n",
    "            return (row['сообщения'] - 50)*3\n",
    "        \n",
    "    else:\n",
    "        if  (row['сообщения'] - 1000) <= 0:\n",
    "            return 0\n",
    "        else: \n",
    "            (row['сообщения'] - 1000) > 0\n",
    "            return (row['сообщения'] - 1000)"
   ]
  },
  {
   "cell_type": "code",
   "execution_count": 52,
   "metadata": {},
   "outputs": [],
   "source": [
    "df_month['сообщения_сверх'] = df_month.apply(messagers_over_plan, axis=1)"
   ]
  },
  {
   "cell_type": "markdown",
   "metadata": {},
   "source": [
    "Добавим столбцев в котором будут отображаться данные о трафике в гб, а затем вычислим данные о переплатах сверх абонентской платы:"
   ]
  },
  {
   "cell_type": "code",
   "execution_count": 53,
   "metadata": {},
   "outputs": [],
   "source": [
    "df_month['трафик_гб'] = df_month['трафик_мб'] / 1024\n",
    "df_month['трафик_гб'] = df_month['трафик_гб'].apply(np.ceil)"
   ]
  },
  {
   "cell_type": "code",
   "execution_count": 54,
   "metadata": {},
   "outputs": [],
   "source": [
    "def internet_over_plan(row):\n",
    "    if row['тариф'] == 'smart':\n",
    "        if  (row['трафик_гб'] - 15) <= 0:\n",
    "            return 0\n",
    "        else: \n",
    "            (row['трафик_гб'] - 15) > 0\n",
    "            return (row['трафик_гб'] - 15)*200\n",
    "        \n",
    "    else:\n",
    "        if  (row['трафик_гб'] - 30) <= 0:\n",
    "            return 0\n",
    "        else: \n",
    "            (row['трафик_гб'] - 30) > 0\n",
    "            return (row['трафик_гб'] - 30)*150"
   ]
  },
  {
   "cell_type": "code",
   "execution_count": 55,
   "metadata": {},
   "outputs": [],
   "source": [
    "df_month['трафик_сверх'] = df_month.apply(internet_over_plan, axis=1)"
   ]
  },
  {
   "cell_type": "code",
   "execution_count": 56,
   "metadata": {},
   "outputs": [
    {
     "name": "stdout",
     "output_type": "stream",
     "text": [
      "      user_id  месяц  звонки  длительность  сообщения  трафик_мб  тариф  \\\n",
      "0        1000      5    17.0         159.0       22.0     2256.0  ultra   \n",
      "1        1000      6    28.0         172.0       60.0    23257.0  ultra   \n",
      "2        1000      7    41.0         340.0       75.0    14016.0  ultra   \n",
      "3        1000      8    42.0         408.0       81.0    14070.0  ultra   \n",
      "4        1000      9    46.0         466.0       57.0    14581.0  ultra   \n",
      "...       ...    ...     ...           ...        ...        ...    ...   \n",
      "3209     1498     10    30.0         247.0       42.0    20604.0  smart   \n",
      "3210     1499      9     8.0          70.0       11.0     1848.0  smart   \n",
      "3211     1499     10    44.0         449.0       48.0    17809.0  smart   \n",
      "3212     1499     11    62.0         612.0       59.0    17984.0  smart   \n",
      "3213     1499     12    56.0         492.0       66.0    13077.0  smart   \n",
      "\n",
      "            город  аб_плата, руб.  минуты_сверх  сообщения_сверх  трафик_гб  \\\n",
      "0       Краснодар            1950           0.0              0.0        3.0   \n",
      "1       Краснодар            1950           0.0              0.0       23.0   \n",
      "2       Краснодар            1950           0.0              0.0       14.0   \n",
      "3       Краснодар            1950           0.0              0.0       14.0   \n",
      "4       Краснодар            1950           0.0              0.0       15.0   \n",
      "...           ...             ...           ...              ...        ...   \n",
      "3209  Владикавказ             550           0.0              0.0       21.0   \n",
      "3210        Пермь             550           0.0              0.0        2.0   \n",
      "3211        Пермь             550           0.0              0.0       18.0   \n",
      "3212        Пермь             550         336.0             27.0       18.0   \n",
      "3213        Пермь             550           0.0             48.0       13.0   \n",
      "\n",
      "      трафик_сверх  \n",
      "0              0.0  \n",
      "1              0.0  \n",
      "2              0.0  \n",
      "3              0.0  \n",
      "4              0.0  \n",
      "...            ...  \n",
      "3209        1200.0  \n",
      "3210           0.0  \n",
      "3211         600.0  \n",
      "3212         600.0  \n",
      "3213           0.0  \n",
      "\n",
      "[3214 rows x 13 columns]\n"
     ]
    }
   ],
   "source": [
    "print(df_month)"
   ]
  },
  {
   "cell_type": "code",
   "execution_count": 57,
   "metadata": {},
   "outputs": [
    {
     "data": {
      "text/plain": [
       "3214"
      ]
     },
     "execution_count": 57,
     "metadata": {},
     "output_type": "execute_result"
    }
   ],
   "source": [
    "len(df_month)"
   ]
  },
  {
   "cell_type": "markdown",
   "metadata": {},
   "source": [
    "Найдем помесячную выручку с каждого пользователя:"
   ]
  },
  {
   "cell_type": "code",
   "execution_count": 58,
   "metadata": {},
   "outputs": [],
   "source": [
    "df_month['выручка'] = df_month['минуты_сверх'] + df_month['сообщения_сверх'] + df_month['трафик_сверх'] + df_month['аб_плата, руб.']"
   ]
  },
  {
   "cell_type": "markdown",
   "metadata": {},
   "source": [
    "Общая выручка по каждому тарифу:"
   ]
  },
  {
   "cell_type": "code",
   "execution_count": 59,
   "metadata": {},
   "outputs": [
    {
     "data": {
      "text/html": [
       "<div>\n",
       "<style scoped>\n",
       "    .dataframe tbody tr th:only-of-type {\n",
       "        vertical-align: middle;\n",
       "    }\n",
       "\n",
       "    .dataframe tbody tr th {\n",
       "        vertical-align: top;\n",
       "    }\n",
       "\n",
       "    .dataframe thead th {\n",
       "        text-align: right;\n",
       "    }\n",
       "</style>\n",
       "<table border=\"1\" class=\"dataframe\">\n",
       "  <thead>\n",
       "    <tr style=\"text-align: right;\">\n",
       "      <th></th>\n",
       "      <th>выручка</th>\n",
       "    </tr>\n",
       "    <tr>\n",
       "      <th>тариф</th>\n",
       "      <th></th>\n",
       "    </tr>\n",
       "  </thead>\n",
       "  <tbody>\n",
       "    <tr>\n",
       "      <td>smart</td>\n",
       "      <td>2885751.0</td>\n",
       "    </tr>\n",
       "    <tr>\n",
       "      <td>ultra</td>\n",
       "      <td>2040000.0</td>\n",
       "    </tr>\n",
       "  </tbody>\n",
       "</table>\n",
       "</div>"
      ],
      "text/plain": [
       "         выручка\n",
       "тариф           \n",
       "smart  2885751.0\n",
       "ultra  2040000.0"
      ]
     },
     "execution_count": 59,
     "metadata": {},
     "output_type": "execute_result"
    }
   ],
   "source": [
    "df_month.pivot_table(index='тариф', values='выручка', aggfunc = 'sum')"
   ]
  },
  {
   "cell_type": "code",
   "execution_count": 60,
   "metadata": {},
   "outputs": [
    {
     "name": "stdout",
     "output_type": "stream",
     "text": [
      "user_id  месяц\n",
      "1000     5        1950.0\n",
      "         6        1950.0\n",
      "         7        1950.0\n",
      "         8        1950.0\n",
      "         9        1950.0\n",
      "         10       1950.0\n",
      "         11       1950.0\n",
      "         12       1950.0\n",
      "1001     11       1350.0\n",
      "         12        550.0\n",
      "Name: выручка, dtype: float64\n"
     ]
    }
   ],
   "source": [
    "viruchka = df_month.groupby(['user_id', 'месяц'])['выручка'].sum()\n",
    "print(viruchka.head(10))"
   ]
  },
  {
   "cell_type": "markdown",
   "metadata": {},
   "source": [
    "Посчитаем выручку с тарифов благодаря покупке дополнительных пакетов трафика:"
   ]
  },
  {
   "cell_type": "code",
   "execution_count": 61,
   "metadata": {},
   "outputs": [
    {
     "data": {
      "text/html": [
       "<div>\n",
       "<style scoped>\n",
       "    .dataframe tbody tr th:only-of-type {\n",
       "        vertical-align: middle;\n",
       "    }\n",
       "\n",
       "    .dataframe tbody tr th {\n",
       "        vertical-align: top;\n",
       "    }\n",
       "\n",
       "    .dataframe thead th {\n",
       "        text-align: right;\n",
       "    }\n",
       "</style>\n",
       "<table border=\"1\" class=\"dataframe\">\n",
       "  <thead>\n",
       "    <tr style=\"text-align: right;\">\n",
       "      <th></th>\n",
       "      <th>трафик_сверх</th>\n",
       "    </tr>\n",
       "    <tr>\n",
       "      <th>тариф</th>\n",
       "      <th></th>\n",
       "    </tr>\n",
       "  </thead>\n",
       "  <tbody>\n",
       "    <tr>\n",
       "      <td>smart</td>\n",
       "      <td>1342800.0</td>\n",
       "    </tr>\n",
       "    <tr>\n",
       "      <td>ultra</td>\n",
       "      <td>119250.0</td>\n",
       "    </tr>\n",
       "  </tbody>\n",
       "</table>\n",
       "</div>"
      ],
      "text/plain": [
       "       трафик_сверх\n",
       "тариф              \n",
       "smart     1342800.0\n",
       "ultra      119250.0"
      ]
     },
     "execution_count": 61,
     "metadata": {},
     "output_type": "execute_result"
    }
   ],
   "source": [
    "df_month.pivot_table(index='тариф', values='трафик_сверх', aggfunc='sum')"
   ]
  },
  {
   "cell_type": "markdown",
   "metadata": {},
   "source": [
    "Заметим, что практически половину выручки от тарифа СМАРТ оператор связи получил от покупки дополнительных пакетов."
   ]
  },
  {
   "cell_type": "markdown",
   "metadata": {},
   "source": [
    "### Проанализируем данные:\n",
    "Сколько минут разговора, сколько сообщений и какой объём интернет-трафика требуется пользователям каждого тарифа в месяц. Посчитаем среднее количество, дисперсию и стандартное отклонение. Построем гистограммы:"
   ]
  },
  {
   "cell_type": "markdown",
   "metadata": {},
   "source": [
    "#### Тариф СМАРТ:"
   ]
  },
  {
   "cell_type": "code",
   "execution_count": 62,
   "metadata": {},
   "outputs": [],
   "source": [
    "df_smart = df_month.query('тариф == \"smart\"')"
   ]
  },
  {
   "cell_type": "code",
   "execution_count": 63,
   "metadata": {},
   "outputs": [
    {
     "data": {
      "image/png": "[encoded data removed]",
      "text/plain": [
       "<Figure size 1440x576 with 4 Axes>"
      ]
     },
     "metadata": {
      "needs_background": "light"
     },
     "output_type": "display_data"
    }
   ],
   "source": [
    "column_list1 = ['длительность', 'сообщения', 'трафик_гб']\n",
    "ax = df_smart[column_list1].plot(kind='box', subplots=True, layout=(2,2), figsize=(20,8), grid=True)\n",
    "ylims = [1000, 120, 35]\n",
    "for i in range(len(column_list1)):\n",
    "    ax[column_list1[i]].set_ylim(0, ylims[i])"
   ]
  },
  {
   "cell_type": "code",
   "execution_count": 64,
   "metadata": {},
   "outputs": [
    {
     "data": {
      "text/html": [
       "<div>\n",
       "<style scoped>\n",
       "    .dataframe tbody tr th:only-of-type {\n",
       "        vertical-align: middle;\n",
       "    }\n",
       "\n",
       "    .dataframe tbody tr th {\n",
       "        vertical-align: top;\n",
       "    }\n",
       "\n",
       "    .dataframe thead th {\n",
       "        text-align: right;\n",
       "    }\n",
       "</style>\n",
       "<table border=\"1\" class=\"dataframe\">\n",
       "  <thead>\n",
       "    <tr style=\"text-align: right;\">\n",
       "      <th></th>\n",
       "      <th>длительность</th>\n",
       "      <th>сообщения</th>\n",
       "      <th>трафик_гб</th>\n",
       "    </tr>\n",
       "  </thead>\n",
       "  <tbody>\n",
       "    <tr>\n",
       "      <td>count</td>\n",
       "      <td>2229.000000</td>\n",
       "      <td>2229.000000</td>\n",
       "      <td>2229.000000</td>\n",
       "    </tr>\n",
       "    <tr>\n",
       "      <td>mean</td>\n",
       "      <td>417.934948</td>\n",
       "      <td>33.384029</td>\n",
       "      <td>16.359354</td>\n",
       "    </tr>\n",
       "    <tr>\n",
       "      <td>std</td>\n",
       "      <td>190.313730</td>\n",
       "      <td>28.227876</td>\n",
       "      <td>5.758498</td>\n",
       "    </tr>\n",
       "    <tr>\n",
       "      <td>min</td>\n",
       "      <td>0.000000</td>\n",
       "      <td>0.000000</td>\n",
       "      <td>0.000000</td>\n",
       "    </tr>\n",
       "    <tr>\n",
       "      <td>25%</td>\n",
       "      <td>282.000000</td>\n",
       "      <td>10.000000</td>\n",
       "      <td>13.000000</td>\n",
       "    </tr>\n",
       "    <tr>\n",
       "      <td>50%</td>\n",
       "      <td>422.000000</td>\n",
       "      <td>28.000000</td>\n",
       "      <td>17.000000</td>\n",
       "    </tr>\n",
       "    <tr>\n",
       "      <td>75%</td>\n",
       "      <td>545.000000</td>\n",
       "      <td>51.000000</td>\n",
       "      <td>20.000000</td>\n",
       "    </tr>\n",
       "    <tr>\n",
       "      <td>max</td>\n",
       "      <td>1435.000000</td>\n",
       "      <td>143.000000</td>\n",
       "      <td>38.000000</td>\n",
       "    </tr>\n",
       "  </tbody>\n",
       "</table>\n",
       "</div>"
      ],
      "text/plain": [
       "       длительность    сообщения    трафик_гб\n",
       "count   2229.000000  2229.000000  2229.000000\n",
       "mean     417.934948    33.384029    16.359354\n",
       "std      190.313730    28.227876     5.758498\n",
       "min        0.000000     0.000000     0.000000\n",
       "25%      282.000000    10.000000    13.000000\n",
       "50%      422.000000    28.000000    17.000000\n",
       "75%      545.000000    51.000000    20.000000\n",
       "max     1435.000000   143.000000    38.000000"
      ]
     },
     "execution_count": 64,
     "metadata": {},
     "output_type": "execute_result"
    }
   ],
   "source": [
    "column_list1 = ['длительность', 'сообщения', 'трафик_гб']\n",
    "df_smart[column_list1].describe()"
   ]
  },
  {
   "cell_type": "code",
   "execution_count": 65,
   "metadata": {},
   "outputs": [],
   "source": [
    "def plot_hist_smart(data):\n",
    "        \n",
    "        mean = df_smart[data].mean\n",
    "        print('Среднее значение:', mean())\n",
    "        print()  \n",
    "        std = df_smart[data].std()\n",
    "        print('Стандартное отклонение:', std)\n",
    "        print()\n",
    "        variance = np.var(df_smart[data], ddof=1)\n",
    "        print('Дисперсия:', variance)\n",
    "        \n",
    "        if data == 'длительность':\n",
    "            df_smart[data].plot(kind='hist', ec='blue', bins=50, grid=True, title = 'Гистограмма длительности звонков')\n",
    "            \n",
    "        if data == 'сообщения':\n",
    "            df_smart[data].plot(kind='hist', ec='blue', bins=50, grid=True, title = 'Гистограмма количества сообщений')\n",
    "            \n",
    "        if data == 'трафик_гб': \n",
    "            df_smart[data].plot(kind='hist', ec='blue', bins=50, grid=True, title = 'Гистограмма используемого трафика в ГБ')"
   ]
  },
  {
   "cell_type": "code",
   "execution_count": 66,
   "metadata": {},
   "outputs": [
    {
     "name": "stdout",
     "output_type": "stream",
     "text": [
      "Среднее значение: 417.9349484073576\n",
      "\n",
      "Стандартное отклонение: 190.31372988921288\n",
      "\n",
      "Дисперсия: 36219.31578434428\n"
     ]
    },
    {
     "data": {
      "image/png": "[encoded data removed]",
      "text/plain": [
       "<Figure size 432x288 with 1 Axes>"
      ]
     },
     "metadata": {
      "needs_background": "light"
     },
     "output_type": "display_data"
    }
   ],
   "source": [
    "plot_hist_smart('длительность')"
   ]
  },
  {
   "cell_type": "code",
   "execution_count": 67,
   "metadata": {},
   "outputs": [
    {
     "name": "stdout",
     "output_type": "stream",
     "text": [
      "Среднее значение: 33.384028712427096\n",
      "\n",
      "Стандартное отклонение: 28.22787555676141\n",
      "\n",
      "Дисперсия: 796.8129584480083\n"
     ]
    },
    {
     "data": {
      "image/png": "[encoded data removed]",
      "text/plain": [
       "<Figure size 432x288 with 1 Axes>"
      ]
     },
     "metadata": {
      "needs_background": "light"
     },
     "output_type": "display_data"
    }
   ],
   "source": [
    "plot_hist_smart('сообщения')"
   ]
  },
  {
   "cell_type": "code",
   "execution_count": 68,
   "metadata": {},
   "outputs": [
    {
     "name": "stdout",
     "output_type": "stream",
     "text": [
      "Среднее значение: 16.35935397039031\n",
      "\n",
      "Стандартное отклонение: 5.7584984215321935\n",
      "\n",
      "Дисперсия: 33.16030407078876\n"
     ]
    },
    {
     "data": {
      "image/png": "[encoded data removed]",
      "text/plain": [
       "<Figure size 432x288 with 1 Axes>"
      ]
     },
     "metadata": {
      "needs_background": "light"
     },
     "output_type": "display_data"
    }
   ],
   "source": [
    "plot_hist_smart('трафик_гб')"
   ]
  },
  {
   "cell_type": "markdown",
   "metadata": {},
   "source": [
    "#### Вывод для тарифа СМАРТ:\n",
    "\n",
    "##### Длительность разговора:\n",
    "В основном время разговора в данном тарифе лежит в диапазоне 282 - 445 минут, данные тариф хорошо подобран для людей, они вполне укладываются в необходимый лимит.\n",
    "##### Количество сообщений:\n",
    "Видно резкий всплеск нулевых значений, это значит, что пользователи просто не отправляют сообщения, что не мудрено в век социальных сетей и различных мессенжеров, СМС-ки нынче не пользуются спросом. А те, кто отправляет, в основномм отправляют от 10 до 50 СМС в месяц.\n",
    "##### Трафик ГБ:\n",
    "Основной диапазон трафика, который израсходовали пользователи лежим в пределах 13-20 ГБ в месяц, то есть можем сделать вывод, что людям не хватает трафика и им приходится приобретать дополнительные пакеты, чтобы дальше пользоваться интернетом. Заметим, что практически половину выручки от тарифа СМАРТ оператор связи получил от покупки пользователями дополнительных пакетов."
   ]
  },
  {
   "cell_type": "markdown",
   "metadata": {},
   "source": [
    "#### Тариф УЛЬТРА:"
   ]
  },
  {
   "cell_type": "code",
   "execution_count": 69,
   "metadata": {},
   "outputs": [],
   "source": [
    "df_ultra = df_month.query('тариф == \"ultra\"')"
   ]
  },
  {
   "cell_type": "code",
   "execution_count": 70,
   "metadata": {},
   "outputs": [
    {
     "data": {
      "image/png": "[encoded data removed]",
      "text/plain": [
       "<Figure size 1440x576 with 4 Axes>"
      ]
     },
     "metadata": {
      "needs_background": "light"
     },
     "output_type": "display_data"
    }
   ],
   "source": [
    "column_list1 = ['длительность', 'сообщения', 'трафик_гб']\n",
    "ax = df_ultra[column_list1].plot(kind='box', subplots=True, layout=(2,2), figsize=(20,8), grid=True)\n",
    "ylims = [1600, 200, 60]\n",
    "for i in range(len(column_list1)):\n",
    "    ax[column_list1[i]].set_ylim(0, ylims[i])"
   ]
  },
  {
   "cell_type": "code",
   "execution_count": 71,
   "metadata": {},
   "outputs": [
    {
     "data": {
      "text/html": [
       "<div>\n",
       "<style scoped>\n",
       "    .dataframe tbody tr th:only-of-type {\n",
       "        vertical-align: middle;\n",
       "    }\n",
       "\n",
       "    .dataframe tbody tr th {\n",
       "        vertical-align: top;\n",
       "    }\n",
       "\n",
       "    .dataframe thead th {\n",
       "        text-align: right;\n",
       "    }\n",
       "</style>\n",
       "<table border=\"1\" class=\"dataframe\">\n",
       "  <thead>\n",
       "    <tr style=\"text-align: right;\">\n",
       "      <th></th>\n",
       "      <th>длительность</th>\n",
       "      <th>сообщения</th>\n",
       "      <th>трафик_гб</th>\n",
       "    </tr>\n",
       "  </thead>\n",
       "  <tbody>\n",
       "    <tr>\n",
       "      <td>count</td>\n",
       "      <td>985.000000</td>\n",
       "      <td>985.000000</td>\n",
       "      <td>985.000000</td>\n",
       "    </tr>\n",
       "    <tr>\n",
       "      <td>mean</td>\n",
       "      <td>526.623350</td>\n",
       "      <td>49.363452</td>\n",
       "      <td>19.525888</td>\n",
       "    </tr>\n",
       "    <tr>\n",
       "      <td>std</td>\n",
       "      <td>317.606098</td>\n",
       "      <td>47.804457</td>\n",
       "      <td>9.865848</td>\n",
       "    </tr>\n",
       "    <tr>\n",
       "      <td>min</td>\n",
       "      <td>0.000000</td>\n",
       "      <td>0.000000</td>\n",
       "      <td>0.000000</td>\n",
       "    </tr>\n",
       "    <tr>\n",
       "      <td>25%</td>\n",
       "      <td>284.000000</td>\n",
       "      <td>6.000000</td>\n",
       "      <td>12.000000</td>\n",
       "    </tr>\n",
       "    <tr>\n",
       "      <td>50%</td>\n",
       "      <td>518.000000</td>\n",
       "      <td>38.000000</td>\n",
       "      <td>19.000000</td>\n",
       "    </tr>\n",
       "    <tr>\n",
       "      <td>75%</td>\n",
       "      <td>752.000000</td>\n",
       "      <td>79.000000</td>\n",
       "      <td>27.000000</td>\n",
       "    </tr>\n",
       "    <tr>\n",
       "      <td>max</td>\n",
       "      <td>1673.000000</td>\n",
       "      <td>224.000000</td>\n",
       "      <td>49.000000</td>\n",
       "    </tr>\n",
       "  </tbody>\n",
       "</table>\n",
       "</div>"
      ],
      "text/plain": [
       "       длительность   сообщения   трафик_гб\n",
       "count    985.000000  985.000000  985.000000\n",
       "mean     526.623350   49.363452   19.525888\n",
       "std      317.606098   47.804457    9.865848\n",
       "min        0.000000    0.000000    0.000000\n",
       "25%      284.000000    6.000000   12.000000\n",
       "50%      518.000000   38.000000   19.000000\n",
       "75%      752.000000   79.000000   27.000000\n",
       "max     1673.000000  224.000000   49.000000"
      ]
     },
     "execution_count": 71,
     "metadata": {},
     "output_type": "execute_result"
    }
   ],
   "source": [
    "column_list1 = ['длительность', 'сообщения', 'трафик_гб']\n",
    "df_ultra[column_list1].describe()"
   ]
  },
  {
   "cell_type": "code",
   "execution_count": 72,
   "metadata": {},
   "outputs": [],
   "source": [
    "def plot_hist_ultra(data):\n",
    "        \n",
    "        mean = df_ultra[data].mean\n",
    "        print('Среднее значение:', mean())\n",
    "        print()  \n",
    "        std = df_ultra[data].std()\n",
    "        print('Стандартное отклонение:', std)\n",
    "        print()\n",
    "        variance = np.var(df_ultra[data], ddof=1)\n",
    "        print('Дисперсия:', variance)\n",
    "        \n",
    "        if data == 'длительность':\n",
    "            df_ultra[data].plot(kind='hist', ec='blue', bins=50, grid=True, title = 'Гистограмма длительности звонков')\n",
    "            \n",
    "        if data == 'сообщения':\n",
    "            df_ultra[data].plot(kind='hist', ec='blue', bins=50, grid=True, title = 'Гистограмма количества сообщений')\n",
    "            \n",
    "        if data == 'трафик_гб': \n",
    "            df_ultra[data].plot(kind='hist', ec='blue', bins=50, grid=True, title = 'Гистограмма используемого трафика в ГБ')\n",
    "            \n",
    "            \n"
   ]
  },
  {
   "cell_type": "code",
   "execution_count": 73,
   "metadata": {},
   "outputs": [
    {
     "name": "stdout",
     "output_type": "stream",
     "text": [
      "Среднее значение: 526.6233502538071\n",
      "\n",
      "Стандартное отклонение: 317.6060978591264\n",
      "\n",
      "Дисперсия: 100873.63339730098\n"
     ]
    },
    {
     "data": {
      "image/png": "[encoded data removed]",
      "text/plain": [
       "<Figure size 432x288 with 1 Axes>"
      ]
     },
     "metadata": {
      "needs_background": "light"
     },
     "output_type": "display_data"
    }
   ],
   "source": [
    "plot_hist_ultra('длительность')"
   ]
  },
  {
   "cell_type": "code",
   "execution_count": 74,
   "metadata": {},
   "outputs": [
    {
     "name": "stdout",
     "output_type": "stream",
     "text": [
      "Среднее значение: 49.36345177664975\n",
      "\n",
      "Стандартное отклонение: 47.80445735017472\n",
      "\n",
      "Дисперсия: 2285.266142544674\n"
     ]
    },
    {
     "data": {
      "image/png": "[encoded data removed]",
      "text/plain": [
       "<Figure size 432x288 with 1 Axes>"
      ]
     },
     "metadata": {
      "needs_background": "light"
     },
     "output_type": "display_data"
    }
   ],
   "source": [
    "plot_hist_ultra('сообщения')"
   ]
  },
  {
   "cell_type": "code",
   "execution_count": 75,
   "metadata": {},
   "outputs": [
    {
     "name": "stdout",
     "output_type": "stream",
     "text": [
      "Среднее значение: 19.525888324873097\n",
      "\n",
      "Стандартное отклонение: 9.865847608403014\n",
      "\n",
      "Дисперсия: 97.33494903223145\n"
     ]
    },
    {
     "data": {
      "image/png": "[encoded data removed]",
      "text/plain": [
       "<Figure size 432x288 with 1 Axes>"
      ]
     },
     "metadata": {
      "needs_background": "light"
     },
     "output_type": "display_data"
    }
   ],
   "source": [
    "plot_hist_ultra('трафик_гб')"
   ]
  },
  {
   "cell_type": "markdown",
   "metadata": {},
   "source": [
    "#### Вывод для тарифа УЛЬТРА:\n",
    "##### Длительность разговора:\n",
    "Данный тариф, по-моему мнению, точно берут не из-за минут на звонки, т.к. имеется большое количество пользователей, которые вообще не звонят, их потраченные минуты равны 0, а те кто всеже решились позвонить их время разговора лежит в диапазоне 284 - 752 минут , т.е. они не тратят даже 1/4 от общего количества минут, а их напомню 3000.\n",
    "##### Количество сообщений:\n",
    "С сообщениями дела обстоят также, как и в СМАРТЕ. Видно резкий всплеск нулевых значений, это значит, что пользователи просто не отправляют сообщения, а те, кто отправляет, в основном отправляют от 7 до 79 СМС в месяц.\n",
    "##### Трафик ГБ:\n",
    "Основной диапазон трафика, который израсходовали пользователи лежит в пределах 12-29 ГБ в месяц, то есть можем сделать вывод, что людям хватает заложенного в тарифе лимита, исходя из всех данных, мне кажется этот тариф берут как раз из-за увеличенного количества интернет-трафика, а минуты и сообщения, как хорошее дополнение.\n",
    "\n"
   ]
  },
  {
   "cell_type": "markdown",
   "metadata": {},
   "source": [
    "### Правильность выбора тарифа"
   ]
  },
  {
   "cell_type": "markdown",
   "metadata": {},
   "source": [
    "Посчитаем, сколько людей выбрали тариф правильно, учитывая параметры (звонки, сообщения, трафик).  Сделаем небольшую ракировку. Тем, кто пользуется СМАРТом присвоим тариф УЛЬТРА и наоборот, и посчитаем, какой тариф был бы выгоднее для пользователя. Для этого посчитаем выручку новую при смене тарифа на противоположный. Если старая выручка будет больше, нежели новая, значит при смене тарифа, пользователь мог сэкономить , обратное вычислять не будет, т.к. если выручка старая меньше новой, значит выбран был правильный тариф и мобильный оператор меньше поимел с абонента:"
   ]
  },
  {
   "cell_type": "markdown",
   "metadata": {},
   "source": [
    "Вычислим новые переплаты за звонки, сообщения и трафик:"
   ]
  },
  {
   "cell_type": "code",
   "execution_count": 76,
   "metadata": {},
   "outputs": [],
   "source": [
    "df_month['тариф_new'] = df_month['тариф']"
   ]
  },
  {
   "cell_type": "code",
   "execution_count": 77,
   "metadata": {},
   "outputs": [],
   "source": [
    "def change_tarrif(row):\n",
    "    new_tarrif = row['тариф_new']\n",
    "    if 'smart' in new_tarrif:\n",
    "        return 'ultra'\n",
    "    if 'ultra' in new_tarrif:\n",
    "        return 'smart'\n",
    "        "
   ]
  },
  {
   "cell_type": "code",
   "execution_count": 78,
   "metadata": {},
   "outputs": [],
   "source": [
    "df_month['тариф_new'] = df_month.apply(change_tarrif, axis = 1)"
   ]
  },
  {
   "cell_type": "code",
   "execution_count": 79,
   "metadata": {},
   "outputs": [],
   "source": [
    "def calls_over_plan(row):\n",
    "    if row['тариф_new'] == 'smart':\n",
    "        if  (row['длительность'] - 500) <= 0:\n",
    "            return 0\n",
    "        else: \n",
    "            (row['длительность'] - 500) > 0\n",
    "            return (row['длительность'] - 500)*3\n",
    "        \n",
    "    else:\n",
    "        if  (row['длительность'] - 3000) <= 0:\n",
    "            return 0\n",
    "        else: \n",
    "            (row['длительность'] - 3000) > 0\n",
    "            return (row['длительность'] - 3000)"
   ]
  },
  {
   "cell_type": "code",
   "execution_count": 80,
   "metadata": {},
   "outputs": [],
   "source": [
    "df_month['минуты_сверх_new'] = df_month.apply(calls_over_plan, axis=1)"
   ]
  },
  {
   "cell_type": "code",
   "execution_count": 81,
   "metadata": {},
   "outputs": [],
   "source": [
    "def messagers_over_plan(row):\n",
    "    if row['тариф_new'] == 'smart':\n",
    "        if  (row['сообщения'] - 50) <= 0:\n",
    "            return 0\n",
    "        else: \n",
    "            (row['сообщения'] - 50) > 0\n",
    "            return (row['сообщения'] - 50)*3\n",
    "        \n",
    "    else:\n",
    "        if  (row['сообщения'] - 1000) <= 0:\n",
    "            return 0\n",
    "        else: \n",
    "            (row['сообщения'] - 1000) > 0\n",
    "            return (row['сообщения'] - 1000)"
   ]
  },
  {
   "cell_type": "code",
   "execution_count": 82,
   "metadata": {},
   "outputs": [],
   "source": [
    "df_month['сообщения_сверх_new'] = df_month.apply(messagers_over_plan, axis=1)"
   ]
  },
  {
   "cell_type": "code",
   "execution_count": 83,
   "metadata": {},
   "outputs": [],
   "source": [
    "def internet_over_plan(row):\n",
    "    if row['тариф_new'] == 'smart':\n",
    "        if  (row['трафик_гб'] - 15) <= 0:\n",
    "            return 0\n",
    "        else: \n",
    "            (row['трафик_гб'] - 15) > 0\n",
    "            return (row['трафик_гб'] - 15)*200\n",
    "        \n",
    "    else:\n",
    "        if  (row['трафик_гб'] - 30) <= 0:\n",
    "            return 0\n",
    "        else: \n",
    "            (row['трафик_гб'] - 30) > 0\n",
    "            return (row['трафик_гб'] - 30)*150"
   ]
  },
  {
   "cell_type": "code",
   "execution_count": 84,
   "metadata": {},
   "outputs": [],
   "source": [
    "df_month['трафик_сверх_new'] = df_month.apply(internet_over_plan, axis=1)"
   ]
  },
  {
   "cell_type": "code",
   "execution_count": 85,
   "metadata": {},
   "outputs": [],
   "source": [
    "def tarif_new(row):\n",
    "    if row['тариф_new'] == 'ultra':\n",
    "        return 1950\n",
    "    else:\n",
    "        return 550"
   ]
  },
  {
   "cell_type": "code",
   "execution_count": 86,
   "metadata": {},
   "outputs": [],
   "source": [
    "df_month['аб_плата_new, руб.'] = df_month.apply(tarif_new, axis = 1)"
   ]
  },
  {
   "cell_type": "markdown",
   "metadata": {},
   "source": [
    "Найдем новое значение выручки:"
   ]
  },
  {
   "cell_type": "code",
   "execution_count": 87,
   "metadata": {},
   "outputs": [],
   "source": [
    "df_month['выручка_new'] = df_month['минуты_сверх_new'] + df_month['сообщения_сверх_new'] + df_month['трафик_сверх_new'] + df_month['аб_плата_new, руб.']"
   ]
  },
  {
   "cell_type": "code",
   "execution_count": 88,
   "metadata": {},
   "outputs": [],
   "source": [
    "viruchka_new = df_month.groupby(['user_id'])['выручка','выручка_new'].sum()\n",
    "\n"
   ]
  },
  {
   "cell_type": "code",
   "execution_count": 89,
   "metadata": {},
   "outputs": [
    {
     "name": "stdout",
     "output_type": "stream",
     "text": [
      "112\n"
     ]
    }
   ],
   "source": [
    "print(len(viruchka_new.query('выручка > выручка_new')))"
   ]
  },
  {
   "cell_type": "code",
   "execution_count": 90,
   "metadata": {},
   "outputs": [],
   "source": [
    "viruchka_new = viruchka_new.query('выручка > выручка_new')"
   ]
  },
  {
   "cell_type": "code",
   "execution_count": 91,
   "metadata": {},
   "outputs": [],
   "source": [
    "viruchka_new['разница'] = viruchka_new['выручка'] - viruchka_new['выручка_new']"
   ]
  },
  {
   "cell_type": "code",
   "execution_count": 92,
   "metadata": {},
   "outputs": [
    {
     "data": {
      "text/plain": [
       "448378.0"
      ]
     },
     "execution_count": 92,
     "metadata": {},
     "output_type": "execute_result"
    }
   ],
   "source": [
    "viruchka_new['разница'].sum()"
   ]
  },
  {
   "cell_type": "markdown",
   "metadata": {},
   "source": [
    "#### В итоге мы получаем, 112 человек выбрали не тот тариф. И благодаря свой не гибкости помогли заработать компании 448 тыс. рублей, что составляет не много, ни мало 10% от общей выручки"
   ]
  },
  {
   "cell_type": "markdown",
   "metadata": {},
   "source": [
    "### Проверяем гипотезы\n",
    "- средняя выручка пользователей тарифов «Ультра» и «Смарт» различается;\n",
    "- средняя выручка пользователей из Москвы отличается от выручки пользователей из других регионов;"
   ]
  },
  {
   "cell_type": "markdown",
   "metadata": {},
   "source": [
    "*H0 (нулевая гипотеза)* - предположение о том, что между данными нет связи. Средняя выручка пользователей тарифа Смарт не отличается от средней выручки пользователей тарифа Ультра.\n",
    "\n",
    "*H1 (альтернативная гипотеза)* - средняя выручка пользователей тарифа Смарт отличается от средней выручки пользователей тарифа Ультра.\n",
    "\n"
   ]
  },
  {
   "cell_type": "code",
   "execution_count": 93,
   "metadata": {},
   "outputs": [
    {
     "name": "stdout",
     "output_type": "stream",
     "text": [
      "user_id  месяц\n",
      "1000     5        1950.0\n",
      "         6        1950.0\n",
      "         7        1950.0\n",
      "         8        1950.0\n",
      "         9        1950.0\n",
      "         10       1950.0\n",
      "         11       1950.0\n",
      "         12       1950.0\n",
      "1001     11       1350.0\n",
      "         12        550.0\n",
      "Name: выручка, dtype: float64\n"
     ]
    }
   ],
   "source": [
    "viruchka = df_month.groupby(['user_id', 'месяц'])['выручка'].sum()\n",
    "print(viruchka.head(10))"
   ]
  },
  {
   "cell_type": "code",
   "execution_count": 94,
   "metadata": {},
   "outputs": [],
   "source": [
    "df_month_smart = df_month.query('тариф == \"smart\"')\n"
   ]
  },
  {
   "cell_type": "code",
   "execution_count": 95,
   "metadata": {},
   "outputs": [],
   "source": [
    "smart_month_mean = df_month[(df_month['тариф'] == 'smart')]['выручка']"
   ]
  },
  {
   "cell_type": "code",
   "execution_count": 96,
   "metadata": {},
   "outputs": [],
   "source": [
    "ultra_month_mean = df_month[(df_month['тариф'] == 'ultra')]['выручка']"
   ]
  },
  {
   "cell_type": "code",
   "execution_count": 97,
   "metadata": {},
   "outputs": [
    {
     "data": {
      "text/plain": [
       "1294.6393001345896"
      ]
     },
     "execution_count": 97,
     "metadata": {},
     "output_type": "execute_result"
    }
   ],
   "source": [
    "smart_month_mean.mean()"
   ]
  },
  {
   "cell_type": "code",
   "execution_count": 98,
   "metadata": {},
   "outputs": [
    {
     "data": {
      "text/plain": [
       "2071.0659898477156"
      ]
     },
     "execution_count": 98,
     "metadata": {},
     "output_type": "execute_result"
    }
   ],
   "source": [
    "ultra_month_mean.mean()"
   ]
  },
  {
   "cell_type": "code",
   "execution_count": 99,
   "metadata": {},
   "outputs": [],
   "source": [
    "alpha = .05\n",
    "results = st.ttest_ind(\n",
    "    smart_month_mean, \n",
    "    ultra_month_mean)"
   ]
  },
  {
   "cell_type": "code",
   "execution_count": 100,
   "metadata": {},
   "outputs": [
    {
     "name": "stdout",
     "output_type": "stream",
     "text": [
      "p-значение: 2.9776448000521676e-158\n",
      "Отвергаем нулевую гипотезу\n"
     ]
    }
   ],
   "source": [
    "print('p-значение:', results.pvalue)\n",
    "\n",
    "if (results.pvalue < alpha):\n",
    "    print(\"Отвергаем нулевую гипотезу\")\n",
    "else:\n",
    "    print(\"Не получилось отвергнуть нулевую гипотезу\")"
   ]
  },
  {
   "cell_type": "markdown",
   "metadata": {},
   "source": [
    "#### Вывод:"
   ]
  },
  {
   "cell_type": "markdown",
   "metadata": {},
   "source": [
    "Нулевую гипотезу отвергаем. По итогу получаем, что все же пользователи тарифа УЛЬТРА в среднем приносят больше, чем СМАРТа, это не странно, т.к. абонентская плата существенно отличается и покупки дополнительных звонков, сообщений и трафика сверх лимита, не перекрывают эту разницу\n"
   ]
  },
  {
   "cell_type": "markdown",
   "metadata": {},
   "source": [
    "*H0 (нулевая гипотеза)* - предположение о том, что между данными нет связи. Средняя выручка пользователей города Москва не отличается от средней выручки пользователей других городов.\n",
    "\n",
    "*H1 (альтернативная гипотеза)* - средняя выручка пользователей города Москва отличается от средней выручки пользователей других городов.\n"
   ]
  },
  {
   "cell_type": "code",
   "execution_count": 107,
   "metadata": {},
   "outputs": [
    {
     "data": {
      "text/plain": [
       "8       1350.0\n",
       "9        550.0\n",
       "17      1950.0\n",
       "18      1950.0\n",
       "19      1950.0\n",
       "         ...  \n",
       "3158     950.0\n",
       "3159     550.0\n",
       "3160    1750.0\n",
       "3161    1350.0\n",
       "3162     750.0\n",
       "Name: выручка, Length: 611, dtype: float64"
      ]
     },
     "execution_count": 107,
     "metadata": {},
     "output_type": "execute_result"
    }
   ],
   "source": [
    "msc_month_mean = df_month[(df_month['город'] == 'Москва')]['выручка']\n",
    "msc_month_mean"
   ]
  },
  {
   "cell_type": "code",
   "execution_count": 102,
   "metadata": {},
   "outputs": [],
   "source": [
    "other_month_mean = df_month[(df_month['город'] != 'Москва')]['выручка']"
   ]
  },
  {
   "cell_type": "code",
   "execution_count": 103,
   "metadata": {},
   "outputs": [],
   "source": [
    "alpha = .05\n",
    "results = st.ttest_ind(\n",
    "    msc_month_mean, \n",
    "    other_month_mean)"
   ]
  },
  {
   "cell_type": "code",
   "execution_count": 104,
   "metadata": {},
   "outputs": [
    {
     "name": "stdout",
     "output_type": "stream",
     "text": [
      "p-значение: 0.531666503831252\n",
      "Не получилось отвергнуть нулевую гипотезу\n"
     ]
    }
   ],
   "source": [
    "print('p-значение:', results.pvalue)\n",
    "\n",
    "if (results.pvalue < alpha):\n",
    "    print(\"Отвергаем нулевую гипотезу\")\n",
    "else:\n",
    "    print(\"Не получилось отвергнуть нулевую гипотезу\")"
   ]
  },
  {
   "cell_type": "code",
   "execution_count": 105,
   "metadata": {},
   "outputs": [
    {
     "data": {
      "text/plain": [
       "1550.8052373158755"
      ]
     },
     "execution_count": 105,
     "metadata": {},
     "output_type": "execute_result"
    }
   ],
   "source": [
    "msc_month_mean.mean()"
   ]
  },
  {
   "cell_type": "code",
   "execution_count": 106,
   "metadata": {},
   "outputs": [
    {
     "data": {
      "text/plain": [
       "1528.3169419900116"
      ]
     },
     "execution_count": 106,
     "metadata": {},
     "output_type": "execute_result"
    }
   ],
   "source": [
    "other_month_mean.mean()"
   ]
  },
  {
   "cell_type": "markdown",
   "metadata": {},
   "source": [
    "Нулевую гипотезу не отвергаем. По итогу получаем, что все же пользователи города Москва в среднем приносят также, как и пользователи других городов. Разница среднего месячного значения выручки для Москвы, не существенно различается с показателями других городов."
   ]
  },
  {
   "cell_type": "markdown",
   "metadata": {},
   "source": [
    "## Общий вывод:"
   ]
  },
  {
   "cell_type": "markdown",
   "metadata": {},
   "source": [
    "В данном проекте мы проанализировали два тарифных плана: «Смарт» и «Ультра». Причем при первом взгляде на стоимость данных тарифов, которая составляет 550 и 1950 рублей в месяц, кажется что Ультра должен приносить намного больше прибыли нежели Смарт, но посмотрев на то количество услуг сверх тарифного пакета, которое прибретают смартовцы , начинают закрадываться сомнения, например если посмотреть только на количество докупаемого трафика:"
   ]
  },
  {
   "cell_type": "code",
   "execution_count": 107,
   "metadata": {},
   "outputs": [
    {
     "data": {
      "text/html": [
       "<div>\n",
       "<style scoped>\n",
       "    .dataframe tbody tr th:only-of-type {\n",
       "        vertical-align: middle;\n",
       "    }\n",
       "\n",
       "    .dataframe tbody tr th {\n",
       "        vertical-align: top;\n",
       "    }\n",
       "\n",
       "    .dataframe thead th {\n",
       "        text-align: right;\n",
       "    }\n",
       "</style>\n",
       "<table border=\"1\" class=\"dataframe\">\n",
       "  <thead>\n",
       "    <tr style=\"text-align: right;\">\n",
       "      <th></th>\n",
       "      <th>трафик_сверх</th>\n",
       "    </tr>\n",
       "    <tr>\n",
       "      <th>тариф</th>\n",
       "      <th></th>\n",
       "    </tr>\n",
       "  </thead>\n",
       "  <tbody>\n",
       "    <tr>\n",
       "      <td>smart</td>\n",
       "      <td>1342800.0</td>\n",
       "    </tr>\n",
       "    <tr>\n",
       "      <td>ultra</td>\n",
       "      <td>119250.0</td>\n",
       "    </tr>\n",
       "  </tbody>\n",
       "</table>\n",
       "</div>"
      ],
      "text/plain": [
       "       трафик_сверх\n",
       "тариф              \n",
       "smart     1342800.0\n",
       "ultra      119250.0"
      ]
     },
     "execution_count": 107,
     "metadata": {},
     "output_type": "execute_result"
    }
   ],
   "source": [
    "df_month.pivot_table(index='тариф', values='трафик_сверх', aggfunc='sum')\n"
   ]
  },
  {
   "cell_type": "markdown",
   "metadata": {},
   "source": [
    "Только 1,3 млн было потрачено на интернет. Если сравнивать общую выручку, то Ультра принес за год больше, чем Смарт:"
   ]
  },
  {
   "cell_type": "code",
   "execution_count": 108,
   "metadata": {},
   "outputs": [
    {
     "data": {
      "text/html": [
       "<div>\n",
       "<style scoped>\n",
       "    .dataframe tbody tr th:only-of-type {\n",
       "        vertical-align: middle;\n",
       "    }\n",
       "\n",
       "    .dataframe tbody tr th {\n",
       "        vertical-align: top;\n",
       "    }\n",
       "\n",
       "    .dataframe thead th {\n",
       "        text-align: right;\n",
       "    }\n",
       "</style>\n",
       "<table border=\"1\" class=\"dataframe\">\n",
       "  <thead>\n",
       "    <tr style=\"text-align: right;\">\n",
       "      <th></th>\n",
       "      <th>выручка</th>\n",
       "    </tr>\n",
       "    <tr>\n",
       "      <th>тариф</th>\n",
       "      <th></th>\n",
       "    </tr>\n",
       "  </thead>\n",
       "  <tbody>\n",
       "    <tr>\n",
       "      <td>smart</td>\n",
       "      <td>2885751.0</td>\n",
       "    </tr>\n",
       "    <tr>\n",
       "      <td>ultra</td>\n",
       "      <td>2040000.0</td>\n",
       "    </tr>\n",
       "  </tbody>\n",
       "</table>\n",
       "</div>"
      ],
      "text/plain": [
       "         выручка\n",
       "тариф           \n",
       "smart  2885751.0\n",
       "ultra  2040000.0"
      ]
     },
     "execution_count": 108,
     "metadata": {},
     "output_type": "execute_result"
    }
   ],
   "source": [
    "df_month.pivot_table(index='тариф', values='выручка', aggfunc = 'sum')"
   ]
  },
  {
   "cell_type": "markdown",
   "metadata": {},
   "source": [
    "На мой взгляд, компании Мегалайн нужно, как-то перераспределить лимиты звонков, сообщений и трафика, с учетом того, что, если раньше телефон нужен был для звонков и смсок, а интернет был некой второстепенной функцией, то сейчас все теже звонки и смс производимые через мобильную сеть, замещаются различными мессенжарами, что нужно учитывать при составлении лимитов на услуги. Современные люди проводят очень много времени на просторах интернета, за просмотром видео, соцсетей, читая какие-то статьи, сейчас грубо говоря, большинство развлечений и проведения досуга, как бы печально не звучало, но уходят все глубже в виртуальный мир и эти все аспекты нужно учитывать. Компании нужно обратить внимание так же, что если все начнут граммотно рассчитывать свои потребности в количестве звонков, сообщений и трафика, то компания бует терять прибыль. И нужно подбирать оптимальный новый тарифный план, чтобы и компании была хорошая прибыль и пользователям удобные лимиты."
   ]
  }
 ],
 "metadata": {
  "kernelspec": {
   "display_name": "Python 3",
   "language": "python",
   "name": "python3"
  },
  "language_info": {
   "codemirror_mode": {
    "name": "ipython",
    "version": 3
   },
   "file_extension": ".py",
   "mimetype": "text/x-python",
   "name": "python",
   "nbconvert_exporter": "python",
   "pygments_lexer": "ipython3",
   "version": "3.8.8"
  },
  "toc": {
   "base_numbering": 1,
   "nav_menu": {},
   "number_sections": true,
   "sideBar": true,
   "skip_h1_title": true,
   "title_cell": "Table of Contents",
   "title_sidebar": "Contents",
   "toc_cell": false,
   "toc_position": {},
   "toc_section_display": true,
   "toc_window_display": false
  }
 },
 "nbformat": 4,
 "nbformat_minor": 2
}
